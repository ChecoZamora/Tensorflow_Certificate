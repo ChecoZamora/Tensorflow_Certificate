{
 "cells": [
  {
   "cell_type": "code",
   "execution_count": 1,
   "id": "8c52332a",
   "metadata": {},
   "outputs": [
    {
     "name": "stdout",
     "output_type": "stream",
     "text": [
      "Hola Mundo!\n"
     ]
    }
   ],
   "source": [
    "a = \"Hola Mundo!\"\n",
    "print(a)"
   ]
  },
  {
   "cell_type": "code",
   "execution_count": 3,
   "id": "5a1ea8de",
   "metadata": {},
   "outputs": [
    {
     "name": "stdout",
     "output_type": "stream",
     "text": [
      "('Texto', 3, 1.5, False)\n"
     ]
    }
   ],
   "source": [
    "# Recordemos los tipos de datos básicos que existen en Python\n",
    "# Existen los Strings(str), que son texto contenido entre comillas “ “\n",
    "String = \"Texto\"\n",
    "\n",
    "# Los enteros(int), que como su nombre lo dice, son números positivos o negativos sin decimales\n",
    "Integer = 3\n",
    "\n",
    "# Los flotantes(float), que son números reales con decimales\n",
    "Float = 1.5\n",
    "\n",
    "# Los booleanos(bool), que son datos categóricos SI o NO, 1 o 0, VERDADERO o FALSO\n",
    "Boolean = False\n",
    "\n",
    "# Recordemos que las tuplas, son colecciones ordenadas e inmutables, y podrás reconocerlas por estar contenidas entre paréntesis ( )\n",
    "Mi_tupla = ( String, Integer, Float, Boolean)\n",
    "print(Mi_tupla)"
   ]
  },
  {
   "cell_type": "code",
   "execution_count": 4,
   "id": "2b9e940e",
   "metadata": {},
   "outputs": [
    {
     "name": "stdout",
     "output_type": "stream",
     "text": [
      "[1, 2, 3]\n"
     ]
    }
   ],
   "source": [
    "lista = [1, 2, 3]\n",
    "print(lista)"
   ]
  },
  {
   "cell_type": "code",
   "execution_count": 5,
   "id": "53ee9b54",
   "metadata": {},
   "outputs": [
    {
     "name": "stdout",
     "output_type": "stream",
     "text": [
      "['Texto', 3, 1.5, False]\n"
     ]
    }
   ],
   "source": [
    "Mi_lista = list(Mi_tupla)\n",
    "print(Mi_lista)"
   ]
  },
  {
   "cell_type": "code",
   "execution_count": 13,
   "id": "49dd6bdf",
   "metadata": {},
   "outputs": [
    {
     "name": "stdout",
     "output_type": "stream",
     "text": [
      "Ingresa los números a evaluar\n",
      "Ingresa el primer número1\n",
      "Ingresa el segundo número2\n",
      "La suma de los valores es:  3\n",
      "La división de los valores es:  0.5\n"
     ]
    }
   ],
   "source": [
    "\n",
    "# Creamos la clase\n",
    "class Calculadora:\n",
    "\t# Inicializamos los valores a trabajar\n",
    "\tdef __init__(self, valor_1, valor_2):\n",
    "\t\tself.valor_1 = valor_1\n",
    "\t\tself.valor_2 = valor_2\n",
    "\n",
    "\t# Definimos el método para sumar\n",
    "\tdef suma(self):\n",
    "\t\treturn self.valor_1 + self.valor_2\n",
    "\n",
    "\t# Para definir la resta y multiplicación solo hay que modificar el signo …\n",
    "\n",
    "\t# Ahora definamos la función para la división haciendo uso de if\n",
    "\tdef division(self):\n",
    "\t\t# Si el valor de valor_2, que será nuestro denominador es diferente que 0, podemos realizar la división, sino el resultado será indefinido\n",
    "\t# Usar != Significa lo mismo que “Diferente que”\n",
    "\t\tif self.valor_2 != 0:\n",
    "\t\t\treturn self.valor_1 / self.valor_2\n",
    "\t\telse:\n",
    "\t\t\treturn \"El resultado de esta división es indefinido\"\n",
    "\n",
    "# Ahora permitamos al usuario ingresar los valores a evaluar\n",
    "print(\"Ingresa los números a evaluar\")\n",
    "valor_1 = int(input(\"Ingresa el primer número\"))\n",
    "valor_2 = int(input(\"Ingresa el segundo número\"))\n",
    "\n",
    "# Pasemos los valores ingresados a nuestra clase\n",
    "calc = Calculadora(valor_1, valor_2)\n",
    "\n",
    "# Usemos los métodos que creamos, para obtener los resultados\n",
    "print(\"La suma de los valores es: \", calc.suma())\n",
    "print(\"La división de los valores es: \", calc.division())\n"
   ]
  },
  {
   "cell_type": "code",
   "execution_count": 18,
   "id": "fa10d326",
   "metadata": {},
   "outputs": [
    {
     "name": "stdout",
     "output_type": "stream",
     "text": [
      "Berlin\n"
     ]
    }
   ],
   "source": [
    "dic = {\"Alemania\":\"Berlin\"}\n",
    "print(dic[\"Alemania\"])"
   ]
  },
  {
   "cell_type": "code",
   "execution_count": null,
   "id": "f14f1e0c",
   "metadata": {},
   "outputs": [],
   "source": [
    "for i in len(Mi_lista):\n",
    "    "
   ]
  },
  {
   "cell_type": "code",
   "execution_count": 1,
   "id": "77515385",
   "metadata": {},
   "outputs": [],
   "source": [
    "string = \"Texto\"\n",
    "Integer = 3\n",
    "Float = 1.5\n",
    "Boolean = False"
   ]
  },
  {
   "cell_type": "code",
   "execution_count": 2,
   "id": "52d83065",
   "metadata": {},
   "outputs": [
    {
     "name": "stdout",
     "output_type": "stream",
     "text": [
      "('Texto', 3, 1.5, False)\n"
     ]
    }
   ],
   "source": [
    "Mi_tupla = (string, Integer, Float, Boolean)\n",
    "print(Mi_tupla)"
   ]
  },
  {
   "cell_type": "code",
   "execution_count": 2,
   "id": "9e321d9d",
   "metadata": {},
   "outputs": [
    {
     "data": {
      "text/plain": [
       "2"
      ]
     },
     "execution_count": 2,
     "metadata": {},
     "output_type": "execute_result"
    }
   ],
   "source": [
    "l = [1, 2, 3]\n",
    "l.sort()\n",
    "l[len(l)//2]"
   ]
  },
  {
   "cell_type": "code",
   "execution_count": 6,
   "id": "06248403",
   "metadata": {},
   "outputs": [
    {
     "name": "stdout",
     "output_type": "stream",
     "text": [
      "<list_reverseiterator object at 0x0000026D8C16CD60>\n"
     ]
    }
   ],
   "source": [
    "print(reversed(list(range(1, 11))))"
   ]
  },
  {
   "cell_type": "code",
   "execution_count": 7,
   "id": "7b0503a3",
   "metadata": {},
   "outputs": [
    {
     "data": {
      "text/plain": [
       "[10, 9, 8, 7, 6, 5, 4, 3, 2]"
      ]
     },
     "execution_count": 7,
     "metadata": {},
     "output_type": "execute_result"
    }
   ],
   "source": [
    "list(range(10, 1, -1))"
   ]
  },
  {
   "cell_type": "code",
   "execution_count": 8,
   "id": "4f83ad79",
   "metadata": {},
   "outputs": [
    {
     "data": {
      "text/plain": [
       "[10, 9, 8, 7, 6, 5, 4, 3, 2, 1]"
      ]
     },
     "execution_count": 8,
     "metadata": {},
     "output_type": "execute_result"
    }
   ],
   "source": [
    "list(reversed(range(1, 11)))"
   ]
  },
  {
   "cell_type": "code",
   "execution_count": 9,
   "id": "1021321f",
   "metadata": {},
   "outputs": [
    {
     "data": {
      "text/plain": [
       "False"
      ]
     },
     "execution_count": 9,
     "metadata": {},
     "output_type": "execute_result"
    }
   ],
   "source": [
    "list = [2, \"apple\", 3.5]\n",
    "list[1] == \"orange\""
   ]
  },
  {
   "cell_type": "code",
   "execution_count": 11,
   "id": "49b9d558",
   "metadata": {},
   "outputs": [
    {
     "name": "stdout",
     "output_type": "stream",
     "text": [
      "[1, 3, 4, 5]\n"
     ]
    }
   ],
   "source": [
    "list = [1, 2, 3, 4, 5]\n",
    "list.remove(2)\n",
    "print(list)"
   ]
  },
  {
   "cell_type": "code",
   "execution_count": 13,
   "id": "15ae5cab",
   "metadata": {},
   "outputs": [
    {
     "data": {
      "text/plain": [
       "2"
      ]
     },
     "execution_count": 13,
     "metadata": {},
     "output_type": "execute_result"
    }
   ],
   "source": [
    "y = \"stuff;thing:\"\n",
    "z = y.split(\";\")\n",
    "len(z)"
   ]
  },
  {
   "cell_type": "code",
   "execution_count": 16,
   "id": "fd13148b",
   "metadata": {},
   "outputs": [
    {
     "name": "stdout",
     "output_type": "stream",
     "text": [
      "{1: 1, 2: 4, 3: 9, 4: 16, 5: 25, 6: 36, 7: 49, 8: 64, 9: 81, 10: 100, 11: 121, 12: 144, 13: 169, 14: 196, 15: 225, 16: 256, 17: 289, 18: 324, 19: 361, 20: 400, 21: 441, 22: 484, 23: 529, 24: 576, 25: 625, 26: 676, 27: 729, 28: 784, 29: 841, 30: 900, 31: 961, 32: 1024, 33: 1089, 34: 1156, 35: 1225, 36: 1296, 37: 1369, 38: 1444, 39: 1521, 40: 1600, 41: 1681, 42: 1764, 43: 1849, 44: 1936, 45: 2025, 46: 2116, 47: 2209, 48: 2304, 49: 2401, 50: 2500, 51: 2601, 52: 2704, 53: 2809, 54: 2916, 55: 3025, 56: 3136, 57: 3249, 58: 3364, 59: 3481, 60: 3600, 61: 3721, 62: 3844, 63: 3969, 64: 4096, 65: 4225, 66: 4356, 67: 4489, 68: 4624, 69: 4761, 70: 4900, 71: 5041, 72: 5184, 73: 5329, 74: 5476, 75: 5625, 76: 5776, 77: 5929, 78: 6084, 79: 6241, 80: 6400, 81: 6561, 82: 6724, 83: 6889, 84: 7056, 85: 7225, 86: 7396, 87: 7569, 88: 7744, 89: 7921, 90: 8100, 91: 8281, 92: 8464, 93: 8649, 94: 8836, 95: 9025, 96: 9216, 97: 9409, 98: 9604, 99: 9801}\n"
     ]
    }
   ],
   "source": [
    "x= 1\n",
    "y = {x : x*x for x in range(1, 100)}\n",
    "print(y)"
   ]
  },
  {
   "cell_type": "code",
   "execution_count": null,
   "id": "7a72ca64",
   "metadata": {},
   "outputs": [],
   "source": []
  }
 ],
 "metadata": {
  "kernelspec": {
   "display_name": "Python 3 (ipykernel)",
   "language": "python",
   "name": "python3"
  },
  "language_info": {
   "codemirror_mode": {
    "name": "ipython",
    "version": 3
   },
   "file_extension": ".py",
   "mimetype": "text/x-python",
   "name": "python",
   "nbconvert_exporter": "python",
   "pygments_lexer": "ipython3",
   "version": "3.9.12"
  }
 },
 "nbformat": 4,
 "nbformat_minor": 5
}
